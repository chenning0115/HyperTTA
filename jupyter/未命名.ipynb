{
 "cells": [
  {
   "cell_type": "code",
   "execution_count": 1,
   "id": "2dfa8aa0",
   "metadata": {},
   "outputs": [],
   "source": [
    "import numpy as np\n",
    "import pandas as pd\n",
    "import os, sys, json\n",
    "%matplotlib inline"
   ]
  },
  {
   "cell_type": "code",
   "execution_count": 2,
   "id": "3b74daf0",
   "metadata": {},
   "outputs": [],
   "source": [
    "sign_data_list, sign_pct_list, sign_tta_list, sign_noise_list = [], [], [], []\n",
    "oa_list, aa_list, kappa_list = [], [], []\n",
    "\n",
    "def read_dir(dirname):\n",
    "    for name in os.listdir(dirname):\n",
    "    # name = 'pavia_0.2_split_tent_additive_12301542.json'\n",
    "        if len(name.split('_')) < 4:\n",
    "            # print(name)\n",
    "            continue\n",
    "        path = '%s/%s' % (dirname, name)\n",
    "        with open(path, 'r') as fin:\n",
    "            ss = fin.read()\n",
    "            jj = json.loads(ss)\n",
    "            eval_json = jj['eval']\n",
    "            oa, aa, kappa = [float(s) for s in [eval_json['oa'], eval_json['aa'], eval_json['kappa']]]\n",
    "            oa_list.append(oa)\n",
    "            aa_list.append(aa)\n",
    "            kappa_list.append(kappa)\n",
    "            items = name.strip('').split('_')\n",
    "            if len(items) == 4:\n",
    "                sign_data, sign_pct, sign_tta, sign_noise = str.lower(items[0]), items[1], 'test', 'clean'\n",
    "            else:\n",
    "                sign_data, sign_pct, sign_tta, sign_noise = str.lower(items[0]), items[1], items[3], items[4]\n",
    "            for d in ['data', 'pct', 'tta', 'noise']:\n",
    "                eval(\"sign_%s_list.append(sign_%s)\" %(d, d))\n",
    "\n",
    "\n",
    "\n",
    "dir0 = '../res/'\n",
    "# dir1 = '../res_base/'\n",
    "# dir2 = '../res_indian/'\n",
    "# dir3 = '../res_indian_0114/'\n",
    "\n",
    "dir_list = ['../res_pavia_0115/']\n",
    "\n",
    "for dir in dir_list:\n",
    "    read_dir(dir)\n",
    "\n",
    "df = pd.DataFrame({\n",
    "    'data' : sign_data_list, \n",
    "    'pct' : sign_pct_list,\n",
    "    'tta' : sign_tta_list,\n",
    "    'noise': sign_noise_list,\n",
    "    'oa': oa_list,\n",
    "    'aa': aa_list,\n",
    "    'kappa': kappa_list\n",
    "})"
   ]
  },
  {
   "cell_type": "code",
   "execution_count": 3,
   "id": "1f3c739c",
   "metadata": {},
   "outputs": [],
   "source": [
    "df_res = df.groupby(['data', 'pct', 'noise','tta']).mean().reset_index().sort_values(['data', 'noise' ,'pct','tta'])"
   ]
  },
  {
   "cell_type": "code",
   "execution_count": 4,
   "id": "5e9bd0ec-30c7-4924-8ca2-b8da5d9e815a",
   "metadata": {},
   "outputs": [
    {
     "data": {
      "text/html": [
       "<div>\n",
       "<style scoped>\n",
       "    .dataframe tbody tr th:only-of-type {\n",
       "        vertical-align: middle;\n",
       "    }\n",
       "\n",
       "    .dataframe tbody tr th {\n",
       "        vertical-align: top;\n",
       "    }\n",
       "\n",
       "    .dataframe thead th {\n",
       "        text-align: right;\n",
       "    }\n",
       "</style>\n",
       "<table border=\"1\" class=\"dataframe\">\n",
       "  <thead>\n",
       "    <tr style=\"text-align: right;\">\n",
       "      <th></th>\n",
       "      <th>data</th>\n",
       "      <th>pct</th>\n",
       "      <th>noise</th>\n",
       "      <th>tta</th>\n",
       "      <th>oa</th>\n",
       "      <th>aa</th>\n",
       "      <th>kappa</th>\n",
       "    </tr>\n",
       "  </thead>\n",
       "  <tbody>\n",
       "  </tbody>\n",
       "</table>\n",
       "</div>"
      ],
      "text/plain": [
       "Empty DataFrame\n",
       "Columns: [data, pct, noise, tta, oa, aa, kappa]\n",
       "Index: []"
      ]
     },
     "execution_count": 4,
     "metadata": {},
     "output_type": "execute_result"
    }
   ],
   "source": [
    "df_res[df_res['data']=='wh']"
   ]
  },
  {
   "cell_type": "code",
   "execution_count": 5,
   "id": "46144fd8-4a7e-44b6-8645-a6592f317f00",
   "metadata": {},
   "outputs": [],
   "source": [
    "d = 'pavia'\n",
    "df_res[df_res['data']==d].sort_values(['data', 'noise' ,'pct','tta']).to_csv('./test_%s_new.csv' % d)"
   ]
  }
 ],
 "metadata": {
  "kernelspec": {
   "display_name": "Python 3 (ipykernel)",
   "language": "python",
   "name": "python3"
  },
  "language_info": {
   "codemirror_mode": {
    "name": "ipython",
    "version": 3
   },
   "file_extension": ".py",
   "mimetype": "text/x-python",
   "name": "python",
   "nbconvert_exporter": "python",
   "pygments_lexer": "ipython3",
   "version": "3.8.18"
  }
 },
 "nbformat": 4,
 "nbformat_minor": 5
}
